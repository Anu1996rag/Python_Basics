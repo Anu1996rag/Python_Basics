{
 "cells": [
  {
   "cell_type": "markdown",
   "metadata": {},
   "source": [
    "#### This file tells us the concepts of @classmethod and @staticmethod"
   ]
  },
  {
   "cell_type": "code",
   "execution_count": 36,
   "metadata": {},
   "outputs": [],
   "source": [
    "#defining a class\n",
    "class Employee:\n",
    "    #class variables\n",
    "    \n",
    "    num_of_emps = 0\n",
    "    raise_amt = 1.04\n",
    "    \n",
    "    #constructor\n",
    "    def __init__(self,first,last,pay):\n",
    "        self.first = first\n",
    "        self.last = last\n",
    "        self.pay = pay\n",
    "        self.email = first+'.'+last+'@email.com'\n",
    "        \n",
    "        Employee.num_of_emps +=1\n",
    "    \n",
    "    # regular methods - which takes instance as the first argument \n",
    "    def fullName(self):\n",
    "        return '{} {}'.format(self.first,self.last)\n",
    "    \n",
    "    def applyRaise(self):\n",
    "        return int(self.pay * self.raise_amt)\n",
    "    \n",
    "    #class methods - takes the class itself as the first argument \n",
    "    @classmethod #declaring the class method\n",
    "    def setRaiseAmount(cls,amount):\n",
    "        cls.raise_amt = amount\n",
    "        \n",
    "    #class method to split the string and create an instance/object\n",
    "    @classmethod\n",
    "    def fromString(cls,empString):\n",
    "        first,last,pay = empString.split('-')\n",
    "        return cls(first,last,pay)  #passing the arguments to the class and return the values\n",
    "    \n",
    "    #static method to check whether the day given is a work day or not\n",
    "    @staticmethod \n",
    "    def isWorkDay(day):  #static method do not take instance or class as the first argument \n",
    "        if day.weekday()==5 or day.weekday()==6 :  #this means that if the day is a Saturday or Sunday\n",
    "            return 'This is not a weekday'\n",
    "        return 'This is a weekday'"
   ]
  },
  {
   "cell_type": "code",
   "execution_count": 4,
   "metadata": {},
   "outputs": [],
   "source": [
    "#creating objects\n",
    "emp1 = Employee('anurag','patil',1000)"
   ]
  },
  {
   "cell_type": "code",
   "execution_count": 7,
   "metadata": {},
   "outputs": [
    {
     "data": {
      "text/plain": [
       "'anurag patil'"
      ]
     },
     "execution_count": 7,
     "metadata": {},
     "output_type": "execute_result"
    }
   ],
   "source": [
    "emp1.fullName()"
   ]
  },
  {
   "cell_type": "code",
   "execution_count": 10,
   "metadata": {},
   "outputs": [
    {
     "name": "stdout",
     "output_type": "stream",
     "text": [
      "anurag.patil@email.com\n"
     ]
    }
   ],
   "source": [
    "print(emp1.email)"
   ]
  },
  {
   "cell_type": "code",
   "execution_count": 11,
   "metadata": {},
   "outputs": [
    {
     "name": "stdout",
     "output_type": "stream",
     "text": [
      "1040\n"
     ]
    }
   ],
   "source": [
    "print(emp1.applyRaise())"
   ]
  },
  {
   "cell_type": "code",
   "execution_count": 12,
   "metadata": {},
   "outputs": [
    {
     "data": {
      "text/plain": [
       "1"
      ]
     },
     "execution_count": 12,
     "metadata": {},
     "output_type": "execute_result"
    }
   ],
   "source": [
    "Employee.num_of_emps"
   ]
  },
  {
   "cell_type": "code",
   "execution_count": 16,
   "metadata": {},
   "outputs": [
    {
     "data": {
      "text/plain": [
       "1.04"
      ]
     },
     "execution_count": 16,
     "metadata": {},
     "output_type": "execute_result"
    }
   ],
   "source": [
    "Employee.raise_amt"
   ]
  },
  {
   "cell_type": "code",
   "execution_count": 17,
   "metadata": {
    "scrolled": true
   },
   "outputs": [
    {
     "data": {
      "text/plain": [
       "1.04"
      ]
     },
     "execution_count": 17,
     "metadata": {},
     "output_type": "execute_result"
    }
   ],
   "source": [
    "emp1.raise_amt"
   ]
  },
  {
   "cell_type": "code",
   "execution_count": 18,
   "metadata": {},
   "outputs": [],
   "source": [
    "#after creating classmethod setRaiseAmount\n",
    "Employee.setRaiseAmount(1.05)"
   ]
  },
  {
   "cell_type": "code",
   "execution_count": 21,
   "metadata": {},
   "outputs": [],
   "source": [
    "emp1 = Employee('anurag','patil',1000)"
   ]
  },
  {
   "cell_type": "code",
   "execution_count": 22,
   "metadata": {},
   "outputs": [
    {
     "data": {
      "text/plain": [
       "1.05"
      ]
     },
     "execution_count": 22,
     "metadata": {},
     "output_type": "execute_result"
    }
   ],
   "source": [
    "#running the class method without using the instance or object of a class\n",
    "Employee.raise_amt"
   ]
  },
  {
   "cell_type": "code",
   "execution_count": 23,
   "metadata": {},
   "outputs": [
    {
     "data": {
      "text/plain": [
       "1.05"
      ]
     },
     "execution_count": 23,
     "metadata": {},
     "output_type": "execute_result"
    }
   ],
   "source": [
    "emp1.raise_amt"
   ]
  },
  {
   "cell_type": "code",
   "execution_count": 24,
   "metadata": {},
   "outputs": [],
   "source": [
    "# running the class method with the help of the object or instance \n",
    "emp1.setRaiseAmount(1.06)\n"
   ]
  },
  {
   "cell_type": "code",
   "execution_count": 25,
   "metadata": {},
   "outputs": [
    {
     "data": {
      "text/plain": [
       "1.06"
      ]
     },
     "execution_count": 25,
     "metadata": {},
     "output_type": "execute_result"
    }
   ],
   "source": [
    "Employee.raise_amt"
   ]
  },
  {
   "cell_type": "code",
   "execution_count": 26,
   "metadata": {},
   "outputs": [
    {
     "data": {
      "text/plain": [
       "1.06"
      ]
     },
     "execution_count": 26,
     "metadata": {},
     "output_type": "execute_result"
    }
   ],
   "source": [
    "emp1.raise_amt"
   ]
  },
  {
   "cell_type": "code",
   "execution_count": 27,
   "metadata": {},
   "outputs": [],
   "source": [
    "# if we are passing the strings separated by '-' and create a new employee\n",
    "# we have to split the string first\n",
    "\n",
    "emp_str_1 = 'anurag-patil-1996'"
   ]
  },
  {
   "cell_type": "code",
   "execution_count": 28,
   "metadata": {},
   "outputs": [
    {
     "name": "stdout",
     "output_type": "stream",
     "text": [
      "anurag.patil@email.com\n",
      "1996\n"
     ]
    }
   ],
   "source": [
    "first,last,pay = emp_str_1.split('-')\n",
    "emp2 = Employee(first,last,pay)\n",
    "print(emp2.email)\n",
    "print(emp2.pay)"
   ]
  },
  {
   "cell_type": "code",
   "execution_count": 31,
   "metadata": {},
   "outputs": [],
   "source": [
    "#we cannot keep doing the same splitting for all the strings inputted\n",
    "# we will use the class method instead as a general function to split the strings\n",
    "emp_str_2 = 'rajesh-patil-1999'\n",
    "emp3 = Employee.fromString(emp_str_2)"
   ]
  },
  {
   "cell_type": "code",
   "execution_count": 32,
   "metadata": {},
   "outputs": [
    {
     "data": {
      "text/plain": [
       "'rajesh.patil@email.com'"
      ]
     },
     "execution_count": 32,
     "metadata": {},
     "output_type": "execute_result"
    }
   ],
   "source": [
    "emp3.email"
   ]
  },
  {
   "cell_type": "code",
   "execution_count": 33,
   "metadata": {},
   "outputs": [
    {
     "data": {
      "text/plain": [
       "'1999'"
      ]
     },
     "execution_count": 33,
     "metadata": {},
     "output_type": "execute_result"
    }
   ],
   "source": [
    "emp3.pay"
   ]
  },
  {
   "cell_type": "code",
   "execution_count": 37,
   "metadata": {},
   "outputs": [
    {
     "name": "stdout",
     "output_type": "stream",
     "text": [
      "This is a weekday\n"
     ]
    }
   ],
   "source": [
    "#Static methods do not know about class state. These methods are used to do some utility tasks by taking some parameters.\n",
    "#after creating static method\n",
    "\n",
    "import datetime\n",
    "\n",
    "myDate = datetime.date(2020,8,17)\n",
    "print(Employee.isWorkDay(myDate))"
   ]
  },
  {
   "cell_type": "code",
   "execution_count": 38,
   "metadata": {},
   "outputs": [
    {
     "name": "stdout",
     "output_type": "stream",
     "text": [
      "This is not a weekday\n"
     ]
    }
   ],
   "source": [
    "myDate = datetime.date(2020,8,16)\n",
    "print(Employee.isWorkDay(myDate))"
   ]
  },
  {
   "cell_type": "code",
   "execution_count": null,
   "metadata": {},
   "outputs": [],
   "source": []
  }
 ],
 "metadata": {
  "kernelspec": {
   "display_name": "Python 3",
   "language": "python",
   "name": "python3"
  },
  "language_info": {
   "codemirror_mode": {
    "name": "ipython",
    "version": 3
   },
   "file_extension": ".py",
   "mimetype": "text/x-python",
   "name": "python",
   "nbconvert_exporter": "python",
   "pygments_lexer": "ipython3",
   "version": "3.7.6"
  }
 },
 "nbformat": 4,
 "nbformat_minor": 4
}
