{
 "cells": [
  {
   "cell_type": "markdown",
   "metadata": {},
   "source": [
    "#### This notebook covers the concept of Inheritance in Python and some special built-in functions"
   ]
  },
  {
   "cell_type": "code",
   "execution_count": 1,
   "metadata": {},
   "outputs": [],
   "source": [
    "##creating a base class Employee\n",
    "class Employee:\n",
    "    #class variables\n",
    "    \n",
    "    num_of_emps = 0\n",
    "    raise_amt = 1.04\n",
    "    \n",
    "    #constructor\n",
    "    def __init__(self,first,last,pay):\n",
    "        self.first = first\n",
    "        self.last = last\n",
    "        self.pay = pay\n",
    "        self.email = first+'.'+last+'@email.com'\n",
    "        \n",
    "        Employee.num_of_emps +=1\n",
    "    \n",
    "    # regular methods - which takes instance as the first argument \n",
    "    def fullName(self):\n",
    "        return '{} {}'.format(self.first,self.last)\n",
    "    \n",
    "    def applyRaise(self):\n",
    "        return int(self.pay * self.raise_amt)\n",
    "    \n",
    "    #class methods - takes the class itself as the first argument \n",
    "    @classmethod #declaring the class method\n",
    "    def setRaiseAmount(cls,amount):\n",
    "        cls.raise_amt = amount\n",
    "        \n",
    "    #class method to split the string and create an instance/object\n",
    "    @classmethod\n",
    "    def fromString(cls,empString):\n",
    "        first,last,pay = empString.split('-')\n",
    "        return cls(first,last,pay)  #passing the arguments to the class and return the values\n",
    "    \n",
    "    #static method to check whether the day given is a work day or not\n",
    "    @staticmethod \n",
    "    def isWorkDay(day):  #static method do not take instance or class as the first argument \n",
    "        if day.weekday()==5 or day.weekday()==6 :  #this means that if the day is a Saturday or Sunday\n",
    "            return 'This is not a weekday'\n",
    "        return 'This is a weekday'"
   ]
  },
  {
   "cell_type": "code",
   "execution_count": 2,
   "metadata": {},
   "outputs": [],
   "source": [
    "## creating a subclass Developer which inherits the properties and methods of Employee class\n",
    "class Developer(Employee):\n",
    "    raise_amt = 1.10\n",
    "    \n",
    "    #creating a constructor \n",
    "    def __init__ (self,first,last,pay,progLang):\n",
    "        super().__init__(first,last,pay)   #this means that the constructor of the parent class is invoked\n",
    "        self.progLang = progLang  #this adds the functionality to the subclass "
   ]
  },
  {
   "cell_type": "code",
   "execution_count": 3,
   "metadata": {},
   "outputs": [],
   "source": [
    "#after initializing the constructor\n",
    "dev1 = Developer('Amy','Jackson',1200,'Python')"
   ]
  },
  {
   "cell_type": "code",
   "execution_count": 5,
   "metadata": {},
   "outputs": [
    {
     "data": {
      "text/plain": [
       "'Amy Jackson'"
      ]
     },
     "execution_count": 5,
     "metadata": {},
     "output_type": "execute_result"
    }
   ],
   "source": [
    "#method of the parent class Employee \n",
    "dev1.fullName()"
   ]
  },
  {
   "cell_type": "code",
   "execution_count": 6,
   "metadata": {},
   "outputs": [
    {
     "data": {
      "text/plain": [
       "'Python'"
      ]
     },
     "execution_count": 6,
     "metadata": {},
     "output_type": "execute_result"
    }
   ],
   "source": [
    "#attribute of the child class\n",
    "dev1.progLang"
   ]
  },
  {
   "cell_type": "code",
   "execution_count": 7,
   "metadata": {},
   "outputs": [
    {
     "data": {
      "text/plain": [
       "1.1"
      ]
     },
     "execution_count": 7,
     "metadata": {},
     "output_type": "execute_result"
    }
   ],
   "source": [
    "dev1.raise_amt"
   ]
  },
  {
   "cell_type": "code",
   "execution_count": 11,
   "metadata": {},
   "outputs": [],
   "source": [
    "## lets create another subclass Manager which inherits Employee class\n",
    "class Manager(Employee):\n",
    "    def __init__(self,first,last,pay,employees = None): #here we will pass a list of employees\n",
    "        super().__init__(first,last,pay)\n",
    "        if employees is None: #if nothing is passed for the list of employees while creating object\n",
    "            self.employees = [] \n",
    "        else:\n",
    "            self.employees = employees \n",
    "    \n",
    "    #creating method for adding employees\n",
    "    def addEmp(self,emp):\n",
    "        if emp not in self.employees:\n",
    "            self.employees.append(emp)\n",
    "    \n",
    "    #removing an employee\n",
    "    def removeEmp(self,emp):\n",
    "        if emp in self.employees:\n",
    "            self.employees.remove(emp)\n",
    "    \n",
    "    #displaying the list of employees full name\n",
    "    def displayEmp(self):\n",
    "        for emp in self.employees:\n",
    "            print('--->',emp.fullName())  #method of the parent class Employee"
   ]
  },
  {
   "cell_type": "code",
   "execution_count": 9,
   "metadata": {},
   "outputs": [],
   "source": [
    "dev1 = Developer('Amy','Jackson',1200,'Python')\n",
    "dev2 = Developer('Michael','Jackson',1500,'Java')\n",
    "dev3 = Developer('Samuel','Jackson',2000,'C++')"
   ]
  },
  {
   "cell_type": "code",
   "execution_count": 15,
   "metadata": {},
   "outputs": [],
   "source": [
    "mgr1 = Manager('Anurag','Patil',9000,[dev1]) #creating Manager class object and passing the list of employee"
   ]
  },
  {
   "cell_type": "code",
   "execution_count": 14,
   "metadata": {},
   "outputs": [
    {
     "name": "stdout",
     "output_type": "stream",
     "text": [
      "Help on Manager in module __main__ object:\n",
      "\n",
      "class Manager(Employee)\n",
      " |  Manager(first, last, pay, employees=None)\n",
      " |  \n",
      " |  Method resolution order:\n",
      " |      Manager\n",
      " |      Employee\n",
      " |      builtins.object\n",
      " |  \n",
      " |  Methods defined here:\n",
      " |  \n",
      " |  __init__(self, first, last, pay, employees=None)\n",
      " |      Initialize self.  See help(type(self)) for accurate signature.\n",
      " |  \n",
      " |  addEmp(self, emp)\n",
      " |      #creating method for adding employees\n",
      " |  \n",
      " |  displayEmp(self)\n",
      " |      #displaying the list of employees full name\n",
      " |  \n",
      " |  removeEmp(self, emp)\n",
      " |      #removing an employee\n",
      " |  \n",
      " |  ----------------------------------------------------------------------\n",
      " |  Methods inherited from Employee:\n",
      " |  \n",
      " |  applyRaise(self)\n",
      " |  \n",
      " |  fullName(self)\n",
      " |      # regular methods - which takes instance as the first argument\n",
      " |  \n",
      " |  ----------------------------------------------------------------------\n",
      " |  Class methods inherited from Employee:\n",
      " |  \n",
      " |  fromString(empString) from builtins.type\n",
      " |      #class method to split the string and create an instance/object\n",
      " |  \n",
      " |  setRaiseAmount(amount) from builtins.type\n",
      " |      #class methods - takes the class itself as the first argument\n",
      " |  \n",
      " |  ----------------------------------------------------------------------\n",
      " |  Static methods inherited from Employee:\n",
      " |  \n",
      " |  isWorkDay(day)\n",
      " |      #static method to check whether the day given is a work day or not\n",
      " |  \n",
      " |  ----------------------------------------------------------------------\n",
      " |  Data descriptors inherited from Employee:\n",
      " |  \n",
      " |  __dict__\n",
      " |      dictionary for instance variables (if defined)\n",
      " |  \n",
      " |  __weakref__\n",
      " |      list of weak references to the object (if defined)\n",
      " |  \n",
      " |  ----------------------------------------------------------------------\n",
      " |  Data and other attributes inherited from Employee:\n",
      " |  \n",
      " |  num_of_emps = 6\n",
      " |  \n",
      " |  raise_amt = 1.04\n",
      "\n",
      "None\n"
     ]
    }
   ],
   "source": [
    "print(help(mgr1)) #underlying structure of the class"
   ]
  },
  {
   "cell_type": "code",
   "execution_count": 16,
   "metadata": {},
   "outputs": [
    {
     "data": {
      "text/plain": [
       "'Anurag Patil'"
      ]
     },
     "execution_count": 16,
     "metadata": {},
     "output_type": "execute_result"
    }
   ],
   "source": [
    "mgr1.fullName() #method of the parent class"
   ]
  },
  {
   "cell_type": "code",
   "execution_count": 17,
   "metadata": {},
   "outputs": [],
   "source": [
    "#adding two employees in the list \n",
    "mgr1.addEmp(dev2)\n",
    "mgr1.addEmp(dev3)"
   ]
  },
  {
   "cell_type": "code",
   "execution_count": 21,
   "metadata": {},
   "outputs": [
    {
     "name": "stdout",
     "output_type": "stream",
     "text": [
      "---> Amy Jackson\n",
      "---> Michael Jackson\n",
      "---> Samuel Jackson\n"
     ]
    }
   ],
   "source": [
    "#displaying list of employees\n",
    "mgr1.displayEmp()"
   ]
  },
  {
   "cell_type": "code",
   "execution_count": 22,
   "metadata": {},
   "outputs": [],
   "source": [
    "#removing one of the employee\n",
    "mgr1.removeEmp(dev1)"
   ]
  },
  {
   "cell_type": "code",
   "execution_count": 23,
   "metadata": {},
   "outputs": [
    {
     "name": "stdout",
     "output_type": "stream",
     "text": [
      "---> Michael Jackson\n",
      "---> Samuel Jackson\n"
     ]
    }
   ],
   "source": [
    "#list of employees after removal\n",
    "mgr1.displayEmp()"
   ]
  },
  {
   "cell_type": "markdown",
   "metadata": {},
   "source": [
    "##### Built-In Functions : isinstance(), issubclass()"
   ]
  },
  {
   "cell_type": "code",
   "execution_count": 27,
   "metadata": {},
   "outputs": [
    {
     "name": "stdout",
     "output_type": "stream",
     "text": [
      "Is mgr1 an instance of Manager class ? \n",
      " True\n",
      "Is dev1 an instance of Developer class ? \n",
      " True\n",
      "Is dev3 an instance of Employee class ? \n",
      " True\n",
      "Is dev2 an instance of Manager class ? \n",
      " False\n"
     ]
    }
   ],
   "source": [
    "print(\"Is mgr1 an instance of Manager class ? \\n\",isinstance(mgr1,Manager))\n",
    "print(\"Is dev1 an instance of Developer class ? \\n\",isinstance(dev1,Developer))\n",
    "print(\"Is dev3 an instance of Employee class ? \\n\",isinstance(dev3,Employee))\n",
    "print(\"Is dev2 an instance of Manager class ? \\n\",isinstance(dev2,Manager))"
   ]
  },
  {
   "cell_type": "code",
   "execution_count": 29,
   "metadata": {},
   "outputs": [
    {
     "name": "stdout",
     "output_type": "stream",
     "text": [
      "Is Manager subclass of Employee class ? \n",
      " True\n",
      "Is Developer subclass of Employee class ? \n",
      " True\n",
      "Is Employee subclass of Developer class ? \n",
      " False\n",
      "Is Manager subclass of Developer class ? \n",
      " False\n"
     ]
    }
   ],
   "source": [
    "print(\"Is Manager subclass of Employee class ? \\n\",issubclass(Manager,Employee))\n",
    "print(\"Is Developer subclass of Employee class ? \\n\",issubclass(Developer,Employee))\n",
    "print(\"Is Employee subclass of Developer class ? \\n\",issubclass(Employee,Developer))\n",
    "print(\"Is Manager subclass of Developer class ? \\n\",issubclass(Manager,Developer))"
   ]
  }
 ],
 "metadata": {
  "kernelspec": {
   "display_name": "Python 3",
   "language": "python",
   "name": "python3"
  },
  "language_info": {
   "codemirror_mode": {
    "name": "ipython",
    "version": 3
   },
   "file_extension": ".py",
   "mimetype": "text/x-python",
   "name": "python",
   "nbconvert_exporter": "python",
   "pygments_lexer": "ipython3",
   "version": "3.7.6"
  }
 },
 "nbformat": 4,
 "nbformat_minor": 4
}
