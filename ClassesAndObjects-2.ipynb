{
 "cells": [
  {
   "cell_type": "code",
   "execution_count": 1,
   "metadata": {},
   "outputs": [],
   "source": [
    "## This part tells us how multiple classes can communicate/interact with each other in Python\n",
    "\n",
    "class Robot: #class definition\n",
    "    def __init__(self,inputName,inputColor,inputWeight): #constructor\n",
    "        self.name = inputName\n",
    "        self.color = inputColor\n",
    "        self.weight = inputWeight\n",
    "    \n",
    "    def displayInfo(self):#declaring method\n",
    "        print(\"Name of this robot is : \"+self.name)\n",
    "        print(\"Color of this robot is : \"+self.color)\n",
    "        print(\"Weight of this robot is : \"+ str(self.weight))"
   ]
  },
  {
   "cell_type": "code",
   "execution_count": 2,
   "metadata": {},
   "outputs": [],
   "source": [
    "robot1 = Robot(\"Tom\",'red',20)\n",
    "robot2 = Robot(\"Jerry\",'blue',30)"
   ]
  },
  {
   "cell_type": "code",
   "execution_count": 3,
   "metadata": {},
   "outputs": [],
   "source": [
    "#Defining a Person class\n",
    "\n",
    "class Person:\n",
    "    def __init__(self,name,personality,isSitting):\n",
    "        self.name = name\n",
    "        self.personality = personality\n",
    "        self.isSitting = isSitting\n",
    "    \n",
    "    def sitDown(self):\n",
    "        self.isSitting = True #changing the values of the class attribute\n",
    "    \n",
    "    def standUp(self):\n",
    "        self.isSitting  = False"
   ]
  },
  {
   "cell_type": "code",
   "execution_count": 4,
   "metadata": {},
   "outputs": [],
   "source": [
    "#creating objects for class Person\n",
    "person1 = Person(\"Brook\",'aggressive',False)\n",
    "person2 = Person('Scarlett','innocent',True)"
   ]
  },
  {
   "cell_type": "code",
   "execution_count": 5,
   "metadata": {},
   "outputs": [
    {
     "data": {
      "text/plain": [
       "False"
      ]
     },
     "execution_count": 5,
     "metadata": {},
     "output_type": "execute_result"
    }
   ],
   "source": [
    "#attribute values before calling the methods\n",
    "person1.isSitting"
   ]
  },
  {
   "cell_type": "code",
   "execution_count": 6,
   "metadata": {},
   "outputs": [],
   "source": [
    "#calling the method\n",
    "person1.sitDown()"
   ]
  },
  {
   "cell_type": "code",
   "execution_count": 7,
   "metadata": {},
   "outputs": [
    {
     "data": {
      "text/plain": [
       "True"
      ]
     },
     "execution_count": 7,
     "metadata": {},
     "output_type": "execute_result"
    }
   ],
   "source": [
    "#attribute value after calling the method\n",
    "person1.isSitting"
   ]
  },
  {
   "cell_type": "code",
   "execution_count": 8,
   "metadata": {},
   "outputs": [],
   "source": [
    "#Now , we want to add the attribute where it tells which person owns which robot \n",
    "# we can add this using the below method\n",
    "\n",
    "person1.robotOwned = robot1\n",
    "person2.robotOwned = robot2\n",
    "\n",
    "#this adds an extra attribute to the person object"
   ]
  },
  {
   "cell_type": "code",
   "execution_count": 11,
   "metadata": {},
   "outputs": [
    {
     "data": {
      "text/plain": [
       "<__main__.Robot at 0x283a9e03e88>"
      ]
     },
     "execution_count": 11,
     "metadata": {},
     "output_type": "execute_result"
    }
   ],
   "source": [
    "person1.robotOwned #gives the allocated memory address"
   ]
  },
  {
   "cell_type": "code",
   "execution_count": 12,
   "metadata": {},
   "outputs": [
    {
     "name": "stdout",
     "output_type": "stream",
     "text": [
      "Name of this robot is : Tom\n",
      "Color of this robot is : red\n",
      "Weight of this robot is : 20\n"
     ]
    }
   ],
   "source": [
    "#if you want to call the function of the robot , you can do this by using the below way\n",
    "person1.robotOwned.displayInfo()"
   ]
  },
  {
   "cell_type": "code",
   "execution_count": null,
   "metadata": {},
   "outputs": [],
   "source": []
  }
 ],
 "metadata": {
  "kernelspec": {
   "display_name": "Python 3",
   "language": "python",
   "name": "python3"
  },
  "language_info": {
   "codemirror_mode": {
    "name": "ipython",
    "version": 3
   },
   "file_extension": ".py",
   "mimetype": "text/x-python",
   "name": "python",
   "nbconvert_exporter": "python",
   "pygments_lexer": "ipython3",
   "version": "3.7.6"
  }
 },
 "nbformat": 4,
 "nbformat_minor": 4
}
