{
 "cells": [
  {
   "cell_type": "code",
   "execution_count": 16,
   "metadata": {},
   "outputs": [],
   "source": [
    "## Example of declaring a class and a constructor\n",
    "class Robot: #class definition\n",
    "    def __init__(self,inputName,inputColor,inputWeight): #constructor\n",
    "        self.name = inputName\n",
    "        self.color = inputColor\n",
    "        self.weight = inputWeight\n",
    "    \n",
    "    def displayInfo(self):#declaring method\n",
    "        print(\"Name of this robot is : \"+self.name)\n",
    "        print(\"Color of this robot is : \"+self.color)\n",
    "        print(\"Weight of this robot is : \"+ str(self.weight))"
   ]
  },
  {
   "cell_type": "code",
   "execution_count": 17,
   "metadata": {},
   "outputs": [],
   "source": [
    "#creating object \n",
    "r1 = Robot(\"Abcd\",'red',20)"
   ]
  },
  {
   "cell_type": "code",
   "execution_count": 18,
   "metadata": {},
   "outputs": [
    {
     "name": "stdout",
     "output_type": "stream",
     "text": [
      "Name of this robot is : Abcd\n",
      "Color of this robot is : red\n",
      "Weight of this robot is : 20\n"
     ]
    }
   ],
   "source": [
    "#calling out the method of that class using the dot '.' operator\n",
    "r1.displayInfo()"
   ]
  },
  {
   "cell_type": "code",
   "execution_count": null,
   "metadata": {},
   "outputs": [],
   "source": []
  }
 ],
 "metadata": {
  "kernelspec": {
   "display_name": "Python 3",
   "language": "python",
   "name": "python3"
  },
  "language_info": {
   "codemirror_mode": {
    "name": "ipython",
    "version": 3
   },
   "file_extension": ".py",
   "mimetype": "text/x-python",
   "name": "python",
   "nbconvert_exporter": "python",
   "pygments_lexer": "ipython3",
   "version": "3.7.6"
  }
 },
 "nbformat": 4,
 "nbformat_minor": 4
}
